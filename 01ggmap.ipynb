{
 "cells": [
  {
   "cell_type": "code",
   "execution_count": null,
   "id": "3f55d53a-5f1a-44d7-9447-a663b4e4a48e",
   "metadata": {},
   "outputs": [],
   "source": [
    "import numpy as np\n",
    "import pandas as pd\n",
    "import matplotlib.pyplot as plt"
   ]
  },
  {
   "cell_type": "markdown",
   "id": "d562bcad-2e83-468a-9d3f-1daa8177efea",
   "metadata": {},
   "source": [
    "### 지도 시각화\n",
    "* 지리적 위치에 관련 데이터를 지도 위에서 분석하고 보여주는 것\n",
    "* 보통 지리정보(좌표)를 이용해서 지도에 대상을 시각화하는 것\n",
    "* 지도 시각화를 위한 데이터에는 일반적으로 '위치(위도lat/경도lon)' 정보가 있어야 함\n",
    "   + 위치 정보는 좌표계에 따라 다르게 정의될 수 있음\n",
    "   + 일반적으로 WGS84 좌표계(EPSG 4326)를 사용\n",
    "   + 하지만, 사용하는 지도 서비스에 따라 다른 좌표계를 사용할 수도 있음 (https://www.osgeo.kr/17?category=413530)\n",
    "   + 우리나라에서는 (위도, 경도)순으로 표시하는데, 영어권에서는 (경도, 위도) 순으로 주로 표현\n",
    "* 한편, 지도상의 특정 구역을 지리상의 기하학적인 정보로 정의해 둔 shp나 geojson파일을 이용해서 시각화하기도 함"
   ]
  },
  {
   "cell_type": "markdown",
   "id": "a1e7e823-d98d-4a57-93a7-1c70b92ad2cd",
   "metadata": {},
   "source": [
    "### 지리정보 시각화\n",
    "* 구글맵 이용 : 18년 6월 기준 부분 유료화\n",
    "* 포털사이트 지도 API : 기능 제한, 부분 유료화\n",
    "* 오픈소스 지도 API : 디자인 투박, 지도정보 다소 부족"
   ]
  },
  {
   "cell_type": "markdown",
   "id": "07e08889-f670-44d3-a473-c982d4695de0",
   "metadata": {},
   "source": [
    "### 구글맵 사용하기\n",
    "* cloud.google.com/maps-platform\n",
    "* Geocoding API       : 주소 <-> 위도/경도 변환\n",
    "* Maps Static API     : 고정 지도출력 (사진)\n",
    "* Maps Javascript API : 동적 지도출력"
   ]
  },
  {
   "cell_type": "code",
   "execution_count": null,
   "id": "6d062ca5-5f81-428a-a144-a0473a854616",
   "metadata": {},
   "outputs": [],
   "source": []
  }
 ],
 "metadata": {
  "kernelspec": {
   "display_name": "Python 3 (ipykernel)",
   "language": "python",
   "name": "python3"
  },
  "language_info": {
   "codemirror_mode": {
    "name": "ipython",
    "version": 3
   },
   "file_extension": ".py",
   "mimetype": "text/x-python",
   "name": "python",
   "nbconvert_exporter": "python",
   "pygments_lexer": "ipython3",
   "version": "3.9.13"
  }
 },
 "nbformat": 4,
 "nbformat_minor": 5
}
